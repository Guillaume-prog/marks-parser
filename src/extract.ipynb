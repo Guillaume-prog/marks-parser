{
 "cells": [
  {
   "cell_type": "code",
   "execution_count": 13,
   "metadata": {},
   "outputs": [],
   "source": [
    "import pandas as pd\n",
    "from pprint import pprint\n",
    "\n",
    "from main import *\n",
    "\n",
    "pdf_path = \"../res/marks.pdf\"\n",
    "student_id = \"22108939\""
   ]
  },
  {
   "cell_type": "code",
   "execution_count": 14,
   "metadata": {},
   "outputs": [
    {
     "name": "stdout",
     "output_type": "stream",
     "text": [
      "{'UE0': [['ELUMC5A1 Langues', '16.5', '16.5', '8', '12.351'],\n",
      "         ['ELUMC5A1E1 LANG CCC', '16.5', '16.5', '8', '12.351'],\n",
      "         ['ELUMC5A2 EPS', '15.5', '18.5', '5.5', '14.113'],\n",
      "         ['ELUMC5A2E1 EPS TP', '15.5', '18.5', '5.5', '14.121'],\n",
      "         ['ELUMC5A3 SHS', '16.13', '16.63', '12.38', '15.027'],\n",
      "         ['ELUMC5A3E1 SHS CCC', '16.13', '16.63', '12.38', '15.027'],\n",
      "         ['ELUMC5A4 Economie et gestion', '11.7', '16', '10.1', '12.828'],\n",
      "         ['ELUMC5A4E1 ECGEEN CCC', '11.7', '16', '10.1', '12.828']],\n",
      " 'UE1': [['ELUMC5B1 Informatique', '17.046', '17.963', '7.027', '13.338'],\n",
      "         ['ELUMC5B1E1 INFOR CCC', '17.046', '17.963', '7.027', '13.338'],\n",
      "         ['ELUMC5B2 Maths - Mise à niveau', '12.17', '18.913', '2.6', '10.884'],\n",
      "         ['ELUMC5B2E1 MATMN CCC', '12.17', '18.91', '2.6', '10.876'],\n",
      "         ['ELUMC5B3 Physique', '12.088', '17.15', '3.875', '11.145'],\n",
      "         ['ELUMC5B3E1 PHYS CCC', '12.088', '17.15', '3.875', '11.145'],\n",
      "         ['ELURO5B2 Outils Mathématiques', '9.95', '16.85', '4.75', '11.039']],\n",
      " 'UE2': [['ELURO5C1 Modélisation et commande',\n",
      "          '12.525',\n",
      "          '16.938',\n",
      "          '7.363',\n",
      "          '12.839'],\n",
      "         ['ELURO5C1E2 MOCOSY  CC', '11.25', '17.125', '3.875', '11.247'],\n",
      "         ['ELURO5C1E1 MOCOSY TP', '15.5', '19', '12.5', '16.556'],\n",
      "         ['ELURO5C2 Sureté de fonctionnement',\n",
      "          '9.915',\n",
      "          '16.561',\n",
      "          '7.374',\n",
      "          '11.106'],\n",
      "         ['ELURO5C2E2 SUFON  CCC', '9.45', '17.23', '5.82', '10.592'],\n",
      "         ['ELURO5C2E1 SUFON  TP', '11', '15', '10', '12.306'],\n",
      "         ['ELURO5C3 Outils de modélisation', '14.8', '19', '5.025', '12.961'],\n",
      "         ['ELURO5C3E1 OUMOIN  CC', '14.8', '19', '5.025', '12.961'],\n",
      "         ['ELURO5C4 Program. orientée objet',\n",
      "          '17.096',\n",
      "          '17.732',\n",
      "          '4.016',\n",
      "          '12.718'],\n",
      "         ['ELURO5C4E2 PROROB CCC', '17.0', '18.5', '0', '12.028'],\n",
      "         ['ELURO5C4E1 PROROB TP', '17.32', '18.88', '5.42', '14.327']]}\n"
     ]
    }
   ],
   "source": [
    "#data = get_marks(pdf_path, student_id)\n",
    "with open(\"../res/raw.txt\", \"r\") as _in:\n",
    "    data = [ line.split(\"===\") for line in _in.read().split(\"\\n\") ]\n",
    "\n",
    "sections = {}\n",
    "cur_section = -1\n",
    "for line in data[1:]:\n",
    "    (_subject, _student, _max, _min, _avg) = line\n",
    "    if \"|\" in _student:\n",
    "        cur_section += 1\n",
    "        sections[f\"UE{cur_section}\"] = []\n",
    "    else:\n",
    "        sections[f\"UE{cur_section}\"].append(line)\n",
    "    \n",
    "pprint(sections)\n",
    "\n",
    "\n",
    "# res = pd.DataFrame(data)\n",
    "# res.columns = [\"Subject\", \"Student\", \"Max\", \"Min\", \"Average\"]\n",
    "\n",
    "# res"
   ]
  }
 ],
 "metadata": {
  "interpreter": {
   "hash": "9c863cd1686909948b5ade99fae04837b3e24b48ffafa0290c63ee30be940764"
  },
  "kernelspec": {
   "display_name": "Python 3.10.4 ('venv': venv)",
   "language": "python",
   "name": "python3"
  },
  "language_info": {
   "codemirror_mode": {
    "name": "ipython",
    "version": 3
   },
   "file_extension": ".py",
   "mimetype": "text/x-python",
   "name": "python",
   "nbconvert_exporter": "python",
   "pygments_lexer": "ipython3",
   "version": "3.10.4"
  },
  "orig_nbformat": 4
 },
 "nbformat": 4,
 "nbformat_minor": 2
}
